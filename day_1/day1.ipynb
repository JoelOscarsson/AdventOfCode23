{
 "cells": [
  {
   "cell_type": "markdown",
   "metadata": {},
   "source": [
    "# Day one of Advent Of Code 23"
   ]
  },
  {
   "cell_type": "code",
   "execution_count": 1,
   "metadata": {},
   "outputs": [],
   "source": [
    "import csv\n",
    "import re"
   ]
  },
  {
   "cell_type": "markdown",
   "metadata": {},
   "source": [
    "# part 1"
   ]
  },
  {
   "cell_type": "code",
   "execution_count": 2,
   "metadata": {},
   "outputs": [
    {
     "name": "stdout",
     "output_type": "stream",
     "text": [
      "Sum of the calibration doc is: 54159\n"
     ]
    }
   ],
   "source": [
    "def first_last(line):\n",
    "    digits = re.findall(r\"\\d\", line)\n",
    "\n",
    "    if digits:\n",
    "        return int(digits[0]) * 10 + int(digits[-1])\n",
    "    \n",
    "total_sum = 0\n",
    "\n",
    "with open(\"../assets/d1Asset.csv\", newline='') as csv:\n",
    "    for line in csv:\n",
    "        sum = first_last(line)\n",
    "        total_sum += sum\n",
    "\n",
    "    print(f\"Sum of the calibration doc is: {total_sum}\")"
   ]
  },
  {
   "cell_type": "markdown",
   "metadata": {},
   "source": [
    "# part 2"
   ]
  },
  {
   "cell_type": "code",
   "execution_count": 13,
   "metadata": {},
   "outputs": [
    {
     "name": "stdout",
     "output_type": "stream",
     "text": [
      "53201\n"
     ]
    }
   ],
   "source": [
    "import re\n",
    "\n",
    "\n",
    "def convert_to_numbers(s):\n",
    "    words_to_numbers = {\n",
    "        'one': '1',\n",
    "        'two': '2',\n",
    "        'three': '3',\n",
    "        'four': '4',\n",
    "        'five': '5',\n",
    "        'six': '6',\n",
    "        'seven': '7',\n",
    "        'eight': '8',\n",
    "        'nine': '9',\n",
    "\n",
    "    }\n",
    "    for word, number in words_to_numbers.items():\n",
    "        s = s.replace(word, number)\n",
    "\n",
    "\n",
    "    return s\n",
    "\n",
    "# Convert (overwriting the original csv)\n",
    "with open('../assets/d1Asset.csv', newline='') as file:\n",
    "    content = file.read()\n",
    "\n",
    "modify_content = convert_to_numbers(content)\n",
    "\n",
    "with open('../assets/d1Asset.csv', 'w', newline='') as file:\n",
    "        file.write(modify_content)\n",
    "\n",
    "\n",
    "def my_func(line):\n",
    "    digits = re.findall(r'\\d', line)\n",
    "\n",
    "    if digits:\n",
    "        return int(digits[0]) * 10 + int(digits[-1])\n",
    "    else:\n",
    "         return None\n",
    "    \n",
    "tot_sum = 0\n",
    "\n",
    "with open(\"../assets/d1Asset.csv\", newline='') as csv:\n",
    "    for line in csv:    \n",
    "        sum = my_func(line)\n",
    "        tot_sum += sum         \n",
    "\n",
    "print(tot_sum)\n"
   ]
  }
 ],
 "metadata": {
  "kernelspec": {
   "display_name": "aoe",
   "language": "python",
   "name": "python3"
  },
  "language_info": {
   "codemirror_mode": {
    "name": "ipython",
    "version": 3
   },
   "file_extension": ".py",
   "mimetype": "text/x-python",
   "name": "python",
   "nbconvert_exporter": "python",
   "pygments_lexer": "ipython3",
   "version": "3.9.13"
  }
 },
 "nbformat": 4,
 "nbformat_minor": 2
}
